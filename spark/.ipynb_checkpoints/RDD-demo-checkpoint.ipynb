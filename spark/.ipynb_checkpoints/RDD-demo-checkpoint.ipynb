{
 "cells": [
  {
   "cell_type": "markdown",
   "metadata": {},
   "source": [
    "## Using RDD and Spark to Parrallelize and process faster\n",
    "\n",
    "+ Reference: https://stackoverflow.com/questions/28240706/explain-the-aggregate-functionality-in-spark\n",
    "+ Spark Doc: http://spark.apache.org/docs/2.1.0/api/python/pyspark.html"
   ]
  },
  {
   "cell_type": "markdown",
   "metadata": {},
   "source": [
    "#### Why is this important ? \n",
    "+ Sometimes it is important to process data by doing it so in Parrallels , it helps quicken things up\n",
    "+ This is similar to the concept of **split-apply-combine in R**"
   ]
  },
  {
   "cell_type": "code",
   "execution_count": 18,
   "metadata": {},
   "outputs": [],
   "source": [
    "import pyspark\n",
    "from pyspark import SparkContext, SparkConf\n",
    "import matplotlib as plt\n",
    "conf=SparkConf().setAppName(\"spark-beg\").setMaster(\"local[*]\")\n",
    "sc=SparkContext(conf=conf)"
   ]
  },
  {
   "cell_type": "code",
   "execution_count": 41,
   "metadata": {},
   "outputs": [
    {
     "name": "stdout",
     "output_type": "stream",
     "text": [
      "(2, 3)\n"
     ]
    }
   ],
   "source": [
    "seqOp1  = lambda x,y:(x[0]+y, x[1]+1)\n",
    "combOp1 = lambda x,y:(x[0]+y[0], x[1]+y[1]) \n",
    "print(seqOp([1,2,3,4], 1))\n",
    "#print(combOp([1,2,3,4], (2,2)))"
   ]
  },
  {
   "cell_type": "markdown",
   "metadata": {},
   "source": [
    "### Using parallelize and aggregate to find the average of a list"
   ]
  },
  {
   "cell_type": "code",
   "execution_count": 61,
   "metadata": {},
   "outputs": [],
   "source": [
    "rdd2=sc.parallelize([1,2,3,4,5,6],3)\n",
    "seqOp=lambda local_res, list_elem: (local_res[0]+list_elem, local_res[1]+1)\n",
    "combOp=lambda local_res2, local_res3: (local_res2[0]+local_res3[0], local_res2[1]+local_res3[1])"
   ]
  },
  {
   "cell_type": "code",
   "execution_count": 62,
   "metadata": {},
   "outputs": [],
   "source": [
    "tup=rdd2.aggregate((0,0), seqOp, combOp)"
   ]
  },
  {
   "cell_type": "code",
   "execution_count": 63,
   "metadata": {},
   "outputs": [
    {
     "name": "stdout",
     "output_type": "stream",
     "text": [
      "3.5\n"
     ]
    }
   ],
   "source": [
    "# Getting The Entire Average\n",
    "avg=tup[0]/tup[1]\n",
    "print(avg)"
   ]
  },
  {
   "cell_type": "markdown",
   "metadata": {},
   "source": [
    "### Finding the Average of each partition in a big list "
   ]
  },
  {
   "cell_type": "code",
   "execution_count": 80,
   "metadata": {},
   "outputs": [
    {
     "name": "stdout",
     "output_type": "stream",
     "text": [
      "[[1, 2, 3, 4, 5, 6, 7, 8], [9, 10, 11, 12, 13, 14, 15, 16], [17, 18, 19, 20, 21, 22, 23, 24]]\n"
     ]
    }
   ],
   "source": [
    "data=[i for i in range(1,25)]\n",
    "rdd2=sc.parallelize(data, 3)\n",
    "print(rdd2.glom().collect())\n",
    "seqOp2=lambda local_res, list_elem: (local_res[0]+list_elem, local_res[1]+1)\n",
    "combOp2=lambda local_res2, local_res3: ([local_res2[0],local_res3[0]], [local_res2[1],local_res3[1]])"
   ]
  },
  {
   "cell_type": "code",
   "execution_count": 81,
   "metadata": {},
   "outputs": [],
   "source": [
    "tup=rdd2.aggregate((0,0), seqOp2, combOp2)"
   ]
  },
  {
   "cell_type": "code",
   "execution_count": 79,
   "metadata": {},
   "outputs": [
    {
     "data": {
      "text/plain": [
       "([[[0, 36], 100], 164], [[[0, 8], 8], 8])"
      ]
     },
     "execution_count": 79,
     "metadata": {},
     "output_type": "execute_result"
    }
   ],
   "source": [
    "tup"
   ]
  },
  {
   "cell_type": "code",
   "execution_count": 86,
   "metadata": {},
   "outputs": [
    {
     "name": "stdout",
     "output_type": "stream",
     "text": [
      "4.5\n",
      "12.5\n",
      "20.5\n"
     ]
    }
   ],
   "source": [
    "print(tup[0][0][0][1]/tup[1][0][0][1]) # 1st Partition Average\n",
    "print(tup[0][0][1]/tup[1][0][1]) # 2nd Partition Average\n",
    "print(tup[0][1]/tup[1][1]) # 2nd Partition Average"
   ]
  },
  {
   "cell_type": "code",
   "execution_count": null,
   "metadata": {},
   "outputs": [],
   "source": []
  }
 ],
 "metadata": {
  "kernelspec": {
   "display_name": "Python 3",
   "language": "python",
   "name": "python3"
  },
  "language_info": {
   "codemirror_mode": {
    "name": "ipython",
    "version": 3
   },
   "file_extension": ".py",
   "mimetype": "text/x-python",
   "name": "python",
   "nbconvert_exporter": "python",
   "pygments_lexer": "ipython3",
   "version": "3.6.5"
  }
 },
 "nbformat": 4,
 "nbformat_minor": 2
}
